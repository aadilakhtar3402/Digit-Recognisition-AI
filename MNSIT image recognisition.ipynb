{
 "cells": [
  {
   "cell_type": "code",
   "execution_count": 1,
   "source": [
    "import numpy as np\r\n",
    "from keras.datasets import mnist\r\n",
    "import matplotlib.pyplot as plt\r\n",
    "%matplotlib inline"
   ],
   "outputs": [],
   "metadata": {}
  },
  {
   "cell_type": "code",
   "execution_count": 2,
   "source": [
    "(trainx, trainy), (testx, testy) = mnist.load_data()\r\n",
    "trainy = np.reshape(trainy,(trainy.shape[0],1))\r\n",
    "testy = np.reshape(testy,(testy.shape[0],1))\r\n",
    "print('Train: X=%s, y=%s' % (trainx.shape, trainy.shape))\r\n",
    "print('Test: X=%s, y=%s' % (testy.shape, testy.shape))"
   ],
   "outputs": [
    {
     "output_type": "stream",
     "name": "stdout",
     "text": [
      "Train: X=(60000, 28, 28), y=(60000, 1)\n",
      "Test: X=(10000, 1), y=(10000, 1)\n"
     ]
    }
   ],
   "metadata": {}
  },
  {
   "cell_type": "code",
   "execution_count": 3,
   "source": [
    "trainX = trainx.reshape(trainx.shape[0], -1).T\r\n",
    "testX = testx.reshape(testx.shape[0], -1).T\r\n",
    "trainY = trainy.reshape(trainy.shape[0], -1).T\r\n",
    "testY = testy.reshape(testy.shape[0], -1).T\r\n",
    "print('Train: X=%s, y=%s' % (trainX.shape, trainY.shape))\r\n",
    "print('Test: X=%s, y=%s' % (testX.shape, testY.shape))"
   ],
   "outputs": [
    {
     "output_type": "stream",
     "name": "stdout",
     "text": [
      "Train: X=(784, 60000), y=(1, 60000)\n",
      "Test: X=(784, 10000), y=(1, 10000)\n"
     ]
    }
   ],
   "metadata": {}
  },
  {
   "cell_type": "code",
   "execution_count": 4,
   "source": [
    "Y_train=np.zeros((10,trainY.shape[1]))\r\n",
    "for i in range(trainY.shape[1]):\r\n",
    "    Y_train[trainY[0,i],i]=1\r\n",
    "Y_test=np.zeros((10,testY.shape[1]))\r\n",
    "for i in range(testY.shape[1]):\r\n",
    "    Y_test[testY[0,i],i]=1"
   ],
   "outputs": [],
   "metadata": {}
  },
  {
   "cell_type": "code",
   "execution_count": 5,
   "source": [
    "trainX = trainX/255.0\r\n",
    "testX = testX/255.0"
   ],
   "outputs": [],
   "metadata": {}
  },
  {
   "cell_type": "code",
   "execution_count": 6,
   "source": [
    "def initialise_parameters(layers):\r\n",
    "    L = len(layers)\r\n",
    "    parameters = {}\r\n",
    "    for i in range(1,L):\r\n",
    "    \r\n",
    "        parameters['W' + str(i)] = np.random.randn(layers[i],layers[i-1])*0.01\r\n",
    "        parameters['b' + str(i)] = np.zeros((layers[i],1))\r\n",
    "    \r\n",
    "        assert(parameters['W' + str(i)].shape == (layers[i], layers[i-1]))\r\n",
    "        assert(parameters['b' + str(i)].shape == (layers[i], 1))\r\n",
    "    \r\n",
    "    \r\n",
    "    return parameters\r\n"
   ],
   "outputs": [],
   "metadata": {}
  },
  {
   "cell_type": "code",
   "execution_count": 26,
   "source": [
    "parameter = initialise_parameters([5,4,3])\r\n",
    "\r\n",
    "print(\"W1 = \" + str(parameter[\"W1\"]))\r\n",
    "print(\"b1 = \" + str(parameter[\"b1\"]))\r\n",
    "print(\"W2 = \" + str(parameter[\"W2\"]))\r\n",
    "print(\"b2 = \" + str(parameter[\"b2\"]))"
   ],
   "outputs": [
    {
     "output_type": "stream",
     "name": "stdout",
     "text": [
      "W1 = [[ 0.0009901   0.00409399 -0.00679245  0.00870781  0.00864838]\n",
      " [ 0.005338    0.01878665  0.00329248 -0.00375032  0.00149227]\n",
      " [ 0.00564289  0.00085941 -0.0120192   0.00615357  0.00134981]\n",
      " [ 0.00227357  0.00927041  0.01237818 -0.00100014  0.00081559]]\n",
      "b1 = [[0.]\n",
      " [0.]\n",
      " [0.]\n",
      " [0.]]\n",
      "W2 = [[ 0.00278684 -0.01472199 -0.0046984  -0.00124308]\n",
      " [-0.02410826 -0.00799539 -0.00660379 -0.00315777]\n",
      " [-0.00643153 -0.0053861   0.01058869 -0.00171699]]\n",
      "b2 = [[0.]\n",
      " [0.]\n",
      " [0.]]\n"
     ]
    }
   ],
   "metadata": {}
  },
  {
   "cell_type": "code",
   "execution_count": 27,
   "source": [
    "def sigmoidf(x):\r\n",
    "\r\n",
    "    z = 1/(1 + np.exp(-1*x))\r\n",
    "    return z, x"
   ],
   "outputs": [],
   "metadata": {}
  },
  {
   "cell_type": "code",
   "execution_count": 28,
   "source": [
    "def reluf(x):\r\n",
    "    z = np.maximum(0,x)\r\n",
    "    return z, x"
   ],
   "outputs": [],
   "metadata": {}
  },
  {
   "cell_type": "code",
   "execution_count": 29,
   "source": [
    "def forward(A, W, b):\r\n",
    "    Z = np.dot(W, A) + b\r\n",
    "    cache = (A, W, b)\r\n",
    "    return Z, cache\r\n",
    "    "
   ],
   "outputs": [],
   "metadata": {}
  },
  {
   "cell_type": "code",
   "execution_count": 30,
   "source": [
    "def activation(A_prev, W, b, actifunc):\r\n",
    "    Z, linear = forward(A_prev, W, b)\r\n",
    "    if actifunc == \"sigmoid\":\r\n",
    "        A, activation_cache = sigmoidf(Z)\r\n",
    "    elif actifunc == \"relu\":\r\n",
    "        A, activation_cache = reluf(Z)\r\n",
    "        \r\n",
    "    cache = (linear, activation_cache)\r\n",
    "    \r\n",
    "    return A, cache"
   ],
   "outputs": [],
   "metadata": {}
  },
  {
   "cell_type": "code",
   "execution_count": 31,
   "source": [
    "def forwardpropagation(X, parameters):\r\n",
    "    caches = []\r\n",
    "    A = X\r\n",
    "    L = len(parameters)//2\r\n",
    "    \r\n",
    "    for l in range(1,L):\r\n",
    "        A_prev = A\r\n",
    "        A, cache = activation(A_prev, parameters['W'+str(l)], parameters['b'+str(l)],actifunc = \"relu\")\r\n",
    "        caches.append(cache)\r\n",
    "    \r\n",
    "    AL, cache = activation(A, parameters['W'+str(L)], parameters['b'+str(L)],actifunc = \"sigmoid\")\r\n",
    "    caches.append(cache)\r\n",
    "    \r\n",
    "    \r\n",
    "    return AL, caches\r\n",
    "    "
   ],
   "outputs": [],
   "metadata": {}
  },
  {
   "cell_type": "code",
   "execution_count": null,
   "source": [],
   "outputs": [],
   "metadata": {}
  },
  {
   "cell_type": "code",
   "execution_count": 32,
   "source": [
    "def calcost(AL, Y):\r\n",
    "    m = Y.shape[1]\r\n",
    "    #Af = convert(AL,Y)\r\n",
    "    \r\n",
    "    cost = -1/m*np.sum(np.multiply(Y, np.log(AL))+np.multiply(1-Y, np.log(1-AL)))\r\n",
    "    \r\n",
    "    cost = np.squeeze(cost)\r\n",
    "    assert(cost.shape == ())\r\n",
    "    return cost"
   ],
   "outputs": [],
   "metadata": {}
  },
  {
   "cell_type": "code",
   "execution_count": 33,
   "source": [
    "def linear_backward(dZ, cache):\r\n",
    "    A_prev, W, b = cache\r\n",
    "    m = A_prev.shape[1]\r\n",
    "    \r\n",
    "    dW = 1/m*np.dot(dZ, A_prev.T)\r\n",
    "    db = 1/m*np.sum(dZ, axis=1, keepdims = True)\r\n",
    "    dA_prev = np.dot(W.T, dZ)\r\n",
    "    \r\n",
    "    return dA_prev, dW, db"
   ],
   "outputs": [],
   "metadata": {}
  },
  {
   "cell_type": "code",
   "execution_count": 34,
   "source": [
    "def drelu(dA, activation_cache):\r\n",
    "    Z = activation_cache\r\n",
    "    Z[Z<=0] = 0\r\n",
    "    Z[Z>0] = 1\r\n",
    "    dZ = np.multiply(dA,Z)\r\n",
    "    return dZ"
   ],
   "outputs": [],
   "metadata": {}
  },
  {
   "cell_type": "code",
   "execution_count": 35,
   "source": [
    "def dsigmoid(dA, activation_cache):\r\n",
    "    Z = activation_cache\r\n",
    "    gZ = np.exp(-1*Z)/(1+2*np.exp(-1*Z)+np.exp(-2*Z))\r\n",
    "    dZ = np.multiply(dA, gZ)\r\n",
    "    return dZ"
   ],
   "outputs": [],
   "metadata": {}
  },
  {
   "cell_type": "code",
   "execution_count": 36,
   "source": [
    "def activation_backward(dA, cache, actifunc):\r\n",
    "    linear_cache, activation_cache = cache\r\n",
    "    \r\n",
    "    if (actifunc == \"relu\"):\r\n",
    "        dZ = drelu(dA, activation_cache)\r\n",
    "        dA_prev, dW, db = linear_backward(dZ, linear_cache)\r\n",
    "        \r\n",
    "    elif (actifunc == \"sigmoid\"):\r\n",
    "        dZ = dsigmoid(dA, activation_cache)\r\n",
    "        dA_prev, dW, db = linear_backward(dZ, linear_cache)\r\n",
    "        \r\n",
    "    return dA_prev, dW, db"
   ],
   "outputs": [],
   "metadata": {}
  },
  {
   "cell_type": "code",
   "execution_count": 37,
   "source": [
    "def model_backward(AL, Y, caches):\r\n",
    "    #Af = convert(AL, Y)\r\n",
    "    grads = {}\r\n",
    "    L = len(caches)\r\n",
    "    m = AL.shape[1]\r\n",
    "    Y = Y.reshape(AL.shape)\r\n",
    "    \r\n",
    "    dAl = -1*(np.divide(Y, AL)-np.divide(1-Y,1-AL))\r\n",
    "    \r\n",
    "    current_cache = caches[L-1]\r\n",
    "    dA_prev_temp, dW_temp, db_temp = activation_backward(dAl, current_cache, \"sigmoid\")\r\n",
    "    grads[\"dA\"+str(L-1)] = dA_prev_temp\r\n",
    "    grads[\"dW\"+ str(L)] = dW_temp\r\n",
    "    grads[\"db\" +str(L)] = db_temp\r\n",
    "    \r\n",
    "    for l in reversed(range(L-1)):\r\n",
    "        current_cache = caches[l]\r\n",
    "        dA_prev_temp, dW_temp, db_temp = activation_backward(grads[\"dA\" + str(l+1)], current_cache, \"relu\")\r\n",
    "        grads[\"dA\"+str(l)] = dA_prev_temp\r\n",
    "        grads[\"dW\"+ str(l+1)] = dW_temp\r\n",
    "        grads[\"db\" +str(l+1)] = db_temp\r\n",
    "        \r\n",
    "    return grads"
   ],
   "outputs": [],
   "metadata": {}
  },
  {
   "cell_type": "code",
   "execution_count": 38,
   "source": [
    "def update_parameters(params, grads, learning_rate):\r\n",
    "    \r\n",
    "    parameters = params.copy()\r\n",
    "    L = len(parameters)//2\r\n",
    "    \r\n",
    "    for l in range(L):\r\n",
    "        parameters[\"W\" + str(l+1)] = parameters[\"W\" + str(l+1)]-learning_rate*grads[\"dW\" + str(l + 1)]\r\n",
    "        parameters[\"b\" + str(l+1)] = parameters[\"b\" + str(l+1)]-learning_rate*grads[\"db\" + str(l + 1)]\r\n",
    "        \r\n",
    "    return parameters"
   ],
   "outputs": [],
   "metadata": {}
  },
  {
   "cell_type": "code",
   "execution_count": 39,
   "source": [
    "n_x = trainX.shape[0]\r\n",
    "n_y = 10\r\n",
    "layer_dims = (n_x, 60, 10, n_y)"
   ],
   "outputs": [],
   "metadata": {}
  },
  {
   "cell_type": "code",
   "execution_count": 40,
   "source": [
    "def model(X, Y, layer_dims, learning_rate = 0.005, num_iterations = 3000, print_cost = False):\r\n",
    "    \r\n",
    "    costs = []\r\n",
    "    m = X.shape[1]\r\n",
    "    \r\n",
    "    parameters = initialise_parameters(layer_dims)\r\n",
    "    \r\n",
    "    for i in range(0, num_iterations):\r\n",
    "        \r\n",
    "        AL, caches = forwardpropagation(X, parameters)\r\n",
    "        \r\n",
    "        cost = calcost(AL, Y)\r\n",
    "        \r\n",
    "        grads = model_backward(AL, Y, caches)\r\n",
    "        \r\n",
    "        parameters = update_parameters(parameters, grads, learning_rate)\r\n",
    "        \r\n",
    "        if print_cost and i % 1000 == 0 or i == num_iterations - 1:\r\n",
    "            print(\"Cost after iteration {}: {}\".format(i, np.squeeze(cost)))\r\n",
    "        if i % 1000 == 0 or i == num_iterations:\r\n",
    "            costs.append(cost)\r\n",
    "            \r\n",
    "    plt.plot(np.squeeze(costs))\r\n",
    "    plt.ylabel('cost')\r\n",
    "    plt.xlabel('iterations (per tens)')\r\n",
    "    plt.title(\"Learning rate =\" + str(learning_rate))\r\n",
    "    plt.show()\r\n",
    "            \r\n",
    "    return parameters, costs"
   ],
   "outputs": [],
   "metadata": {}
  },
  {
   "cell_type": "code",
   "execution_count": 41,
   "source": [
    "parameters, costs = model(trainX, Y_train, layer_dims, num_iterations = 50000, print_cost = True)"
   ],
   "outputs": [
    {
     "output_type": "stream",
     "name": "stdout",
     "text": [
      "Cost after iteration 0: 6.931528762579645\n",
      "Cost after iteration 1000: 3.827156901333331\n",
      "Cost after iteration 2000: 3.2566663134273224\n",
      "Cost after iteration 3000: 3.2460709277671826\n",
      "Cost after iteration 4000: 3.2235127903152216\n",
      "Cost after iteration 5000: 3.1491478139315268\n",
      "Cost after iteration 6000: 2.989623254310934\n",
      "Cost after iteration 7000: 2.8687926201201566\n",
      "Cost after iteration 8000: 2.7439698152643723\n",
      "Cost after iteration 9000: 2.6419093922678782\n",
      "Cost after iteration 10000: 2.5423861555790435\n",
      "Cost after iteration 11000: 2.3855094949003144\n",
      "Cost after iteration 12000: 2.1500813125542937\n",
      "Cost after iteration 13000: 1.8690066952761788\n",
      "Cost after iteration 14000: 1.6318567830874577\n",
      "Cost after iteration 15000: 1.360144313079797\n",
      "Cost after iteration 16000: 1.1878712578380721\n",
      "Cost after iteration 17000: 1.0954831399302083\n",
      "Cost after iteration 18000: 1.0272248914730473\n",
      "Cost after iteration 19000: 0.9691215646926501\n",
      "Cost after iteration 20000: 0.9172106066497531\n",
      "Cost after iteration 21000: 0.8696154502661434\n",
      "Cost after iteration 22000: 0.8260481260914513\n",
      "Cost after iteration 23000: 0.7863860216191884\n",
      "Cost after iteration 24000: 0.7504591355524732\n",
      "Cost after iteration 25000: 0.7176138601720424\n",
      "Cost after iteration 26000: 0.6873326959796774\n",
      "Cost after iteration 27000: 0.6589380436515971\n",
      "Cost after iteration 28000: 0.6319654579878073\n",
      "Cost after iteration 29000: 0.6063288086083507\n",
      "Cost after iteration 30000: 0.5819248395627361\n",
      "Cost after iteration 31000: 0.5587487127506795\n",
      "Cost after iteration 32000: 0.5369856698921198\n",
      "Cost after iteration 33000: 0.5165266530566621\n",
      "Cost after iteration 34000: 0.49731293695658346\n",
      "Cost after iteration 35000: 0.47936816873724486\n",
      "Cost after iteration 36000: 0.4627817814585927\n",
      "Cost after iteration 37000: 0.44745465215767727\n",
      "Cost after iteration 38000: 0.4332186884170865\n",
      "Cost after iteration 39000: 0.42001679573334644\n",
      "Cost after iteration 40000: 0.4077762343547065\n",
      "Cost after iteration 41000: 0.3964570238170162\n",
      "Cost after iteration 42000: 0.3859599279894242\n",
      "Cost after iteration 43000: 0.37611562146836625\n",
      "Cost after iteration 44000: 0.3668653029186002\n",
      "Cost after iteration 45000: 0.358142176777032\n",
      "Cost after iteration 46000: 0.34991339463643356\n",
      "Cost after iteration 47000: 0.34213903949555563\n",
      "Cost after iteration 48000: 0.33485394973304966\n",
      "Cost after iteration 49000: 0.32797314404169914\n",
      "Cost after iteration 49999: 0.32146449449027287\n"
     ]
    },
    {
     "output_type": "display_data",
     "data": {
      "text/plain": [
       "<Figure size 432x288 with 1 Axes>"
      ],
      "image/png": "[encoded data removed]"
     },
     "metadata": {
      "needs_background": "light"
     }
    }
   ],
   "metadata": {
    "scrolled": false
   }
  },
  {
   "cell_type": "code",
   "execution_count": 42,
   "source": [
    "def predict(X, parameters):\r\n",
    "    AL, caches = forwardpropagation(X, parameters)\r\n",
    "    prediction=np.argmax(AL,axis=0)\r\n",
    "    return prediction.reshape(1,prediction.shape[0])"
   ],
   "outputs": [],
   "metadata": {}
  },
  {
   "cell_type": "code",
   "execution_count": 43,
   "source": [
    "predictions = predict(trainX, parameters)\r\n",
    "print(\"Training Accuracy : \"+ str(np.sum(predictions==trainY)/trainY.shape[1] * 100)+\" %\")"
   ],
   "outputs": [
    {
     "output_type": "stream",
     "name": "stdout",
     "text": [
      "Training Accuracy : 95.565 %\n"
     ]
    }
   ],
   "metadata": {}
  },
  {
   "cell_type": "code",
   "execution_count": 44,
   "source": [
    "predictions_test = predict(testX, parameters)\r\n",
    "print(\"Testing Accuracy : \"+ str(np.sum(predictions_test==testY)/testY.shape[1] * 100)+\" %\")"
   ],
   "outputs": [
    {
     "output_type": "stream",
     "name": "stdout",
     "text": [
      "Testing Accuracy : 94.88 %\n"
     ]
    }
   ],
   "metadata": {}
  },
  {
   "cell_type": "code",
   "execution_count": null,
   "source": [],
   "outputs": [],
   "metadata": {}
  }
 ],
 "metadata": {
  "kernelspec": {
   "display_name": "Python 3",
   "language": "python",
   "name": "python3"
  },
  "language_info": {
   "codemirror_mode": {
    "name": "ipython",
    "version": 3
   },
   "file_extension": ".py",
   "mimetype": "text/x-python",
   "name": "python",
   "nbconvert_exporter": "python",
   "pygments_lexer": "ipython3",
   "version": "3.8.8"
  }
 },
 "nbformat": 4,
 "nbformat_minor": 5
}